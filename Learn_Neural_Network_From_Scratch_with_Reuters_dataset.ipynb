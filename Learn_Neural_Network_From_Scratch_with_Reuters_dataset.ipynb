{
  "nbformat": 4,
  "nbformat_minor": 0,
  "metadata": {
    "colab": {
      "name": "Learn Neural Network From Scratch with Reuters  dataset.ipynb",
      "provenance": [],
      "authorship_tag": "ABX9TyMLtlINudvXRTDWjCyFJczT",
      "include_colab_link": true
    },
    "kernelspec": {
      "name": "python3",
      "display_name": "Python 3"
    },
    "accelerator": "GPU"
  },
  "cells": [
    {
      "cell_type": "markdown",
      "metadata": {
        "id": "view-in-github",
        "colab_type": "text"
      },
      "source": [
        "<a href=\"https://colab.research.google.com/github/imranrahman1997/Neural-Network-from-scratch/blob/main/Learn_Neural_Network_From_Scratch_with_Reuters_dataset.ipynb\" target=\"_parent\"><img src=\"https://colab.research.google.com/assets/colab-badge.svg\" alt=\"Open In Colab\"/></a>"
      ]
    },
    {
      "cell_type": "markdown",
      "metadata": {
        "id": "JixUJypsh0sS"
      },
      "source": [
        "Build a neural network with reuters dataset"
      ]
    },
    {
      "cell_type": "code",
      "metadata": {
        "id": "g8kwXVQhh8Kd"
      },
      "source": [
        "#Import dataset from keras\n",
        "from keras.datasets import reuters\n",
        "(train_data, train_labels), (test_data, test_labels) = reuters.load_data(num_words = 10000)"
      ],
      "execution_count": 1,
      "outputs": []
    },
    {
      "cell_type": "code",
      "metadata": {
        "colab": {
          "base_uri": "https://localhost:8080/"
        },
        "id": "AbAsjRxEiSeo",
        "outputId": "75fcb7d6-6da4-4222-8686-ab3f781f0d8f"
      },
      "source": [
        "print(len(train_data))\n",
        "print(len(test_data))"
      ],
      "execution_count": 2,
      "outputs": [
        {
          "output_type": "stream",
          "text": [
            "8982\n",
            "2246\n"
          ],
          "name": "stdout"
        }
      ]
    },
    {
      "cell_type": "code",
      "metadata": {
        "colab": {
          "base_uri": "https://localhost:8080/"
        },
        "id": "_ATF--quidnN",
        "outputId": "12bfa31c-95f6-44a1-ca63-29f71763bb01"
      },
      "source": [
        "print(train_data[0])"
      ],
      "execution_count": 3,
      "outputs": [
        {
          "output_type": "stream",
          "text": [
            "[1, 2, 2, 8, 43, 10, 447, 5, 25, 207, 270, 5, 3095, 111, 16, 369, 186, 90, 67, 7, 89, 5, 19, 102, 6, 19, 124, 15, 90, 67, 84, 22, 482, 26, 7, 48, 4, 49, 8, 864, 39, 209, 154, 6, 151, 6, 83, 11, 15, 22, 155, 11, 15, 7, 48, 9, 4579, 1005, 504, 6, 258, 6, 272, 11, 15, 22, 134, 44, 11, 15, 16, 8, 197, 1245, 90, 67, 52, 29, 209, 30, 32, 132, 6, 109, 15, 17, 12]\n"
          ],
          "name": "stdout"
        }
      ]
    },
    {
      "cell_type": "markdown",
      "metadata": {
        "id": "Y8U_egfxilde"
      },
      "source": [
        "As we see, each example is a list of integers"
      ]
    },
    {
      "cell_type": "markdown",
      "metadata": {
        "id": "orTUluLaitX-"
      },
      "source": [
        "If you want to decode the integers into text then could follow this code"
      ]
    },
    {
      "cell_type": "code",
      "metadata": {
        "id": "7VrgcHHTigpu"
      },
      "source": [
        "word_index = reuters.get_word_index()\n",
        "reverse_word_index = dict((value, key) for (key,value) in word_index.items())\n",
        "decoded_newswire = ' '.join((reverse_word_index.get(i - 3, '?') for i in train_data[0]))"
      ],
      "execution_count": 4,
      "outputs": []
    },
    {
      "cell_type": "code",
      "metadata": {
        "colab": {
          "base_uri": "https://localhost:8080/"
        },
        "id": "IAZJQyBVjWNw",
        "outputId": "9dafa6d8-8f0c-4e85-d8a4-78d582efc2cf"
      },
      "source": [
        "print(decoded_newswire)"
      ],
      "execution_count": 5,
      "outputs": [
        {
          "output_type": "stream",
          "text": [
            "? ? ? said as a result of its december acquisition of space co it expects earnings per share in 1987 of 1 15 to 1 30 dlrs per share up from 70 cts in 1986 the company said pretax net should rise to nine to 10 mln dlrs from six mln dlrs in 1986 and rental operation revenues to 19 to 22 mln dlrs from 12 5 mln dlrs it said cash flow per share this year should be 2 50 to three dlrs reuter 3\n"
          ],
          "name": "stdout"
        }
      ]
    },
    {
      "cell_type": "markdown",
      "metadata": {
        "id": "YdvnqhJxkQ9Q"
      },
      "source": [
        "Integer list can not input in neural network, so we need to convert it into tensor vector. "
      ]
    },
    {
      "cell_type": "code",
      "metadata": {
        "id": "OFpv5LdtjYt1"
      },
      "source": [
        "#Encoding the data\n",
        "import numpy as np\n",
        "def vectorize_sequences(sequences, dimensions = 10000):\n",
        "  results = np.zeros((len(sequences), dimensions))\n",
        "  for i , sequence in enumerate(sequences):\n",
        "    results[i, sequence] = 1.\n",
        "  return results"
      ],
      "execution_count": 6,
      "outputs": []
    },
    {
      "cell_type": "code",
      "metadata": {
        "id": "rCc68pgTMYJK"
      },
      "source": [
        "x_train = vectorize_sequences(train_data)\n",
        "x_test = vectorize_sequences(test_data)"
      ],
      "execution_count": 7,
      "outputs": []
    },
    {
      "cell_type": "markdown",
      "metadata": {
        "id": "VbGi9sHdUE9X"
      },
      "source": [
        "One hot label for test data"
      ]
    },
    {
      "cell_type": "code",
      "metadata": {
        "id": "9c94A0lOUAT6"
      },
      "source": [
        "def to_one_hot(labels, dimension = 46): #output class is 46, that's why dimension is 46\n",
        "  results = np.zeros((len(labels), dimension))\n",
        "  for i, label in enumerate(labels):\n",
        "    results[i, label] = 1\n",
        "  return results"
      ],
      "execution_count": 8,
      "outputs": []
    },
    {
      "cell_type": "code",
      "metadata": {
        "id": "Cm4WjZzwUk5n"
      },
      "source": [
        "one_hot_train_labels = to_one_hot(train_labels)\n",
        "one_hot_test_labels = to_one_hot(test_labels)"
      ],
      "execution_count": 9,
      "outputs": []
    },
    {
      "cell_type": "markdown",
      "metadata": {
        "id": "37qU5reGjqk2"
      },
      "source": [
        "There is a built in function in keras"
      ]
    },
    {
      "cell_type": "code",
      "metadata": {
        "id": "MTfRrOG2jZOO"
      },
      "source": [
        "from keras.utils.np_utils import to_categorical\n",
        "#Converts a class vector (integers) to binary class matrix.\n",
        "\n",
        "one_hot_train_labels = to_categorical(train_labels)\n",
        "one_hot_test_labels = to_categorical(test_labels)"
      ],
      "execution_count": 10,
      "outputs": []
    },
    {
      "cell_type": "code",
      "metadata": {
        "id": "AreXKmsJj-81"
      },
      "source": [
        "#model defination\n",
        "from keras import models\n",
        "from keras import layers\n",
        "\n",
        "model  = models.Sequential()\n",
        "model.add(layers.Dense(64, activation = 'relu', input_shape = (10000,)))\n",
        "model.add(layers.Dense(64, activation = 'relu'))\n",
        "model.add(layers.Dense(46, activation = 'softmax'))"
      ],
      "execution_count": 11,
      "outputs": []
    },
    {
      "cell_type": "code",
      "metadata": {
        "id": "mNHYqmgrlYiB"
      },
      "source": [
        "model.compile(\n",
        "    optimizer = 'rmsprop',\n",
        "    loss = 'categorical_crossentropy',\n",
        "    metrics = ['accuracy']\n",
        ")"
      ],
      "execution_count": 12,
      "outputs": []
    },
    {
      "cell_type": "code",
      "metadata": {
        "id": "RO7WlLcglrlF"
      },
      "source": [
        "x_val = x_train[:1000]\n",
        "partial_x_train = x_train[1000:]\n",
        "y_val = one_hot_train_labels[:1000]\n",
        "partial_y_train = one_hot_train_labels[1000:]"
      ],
      "execution_count": 13,
      "outputs": []
    },
    {
      "cell_type": "code",
      "metadata": {
        "colab": {
          "base_uri": "https://localhost:8080/"
        },
        "id": "eO5qt32amHIW",
        "outputId": "7af85647-f76a-4304-a240-f62a59f62ee2"
      },
      "source": [
        "history  = model.fit(\n",
        "    partial_x_train,\n",
        "    partial_y_train,\n",
        "    epochs = 20,\n",
        "    batch_size = 512,\n",
        "    validation_data = (x_val, y_val)\n",
        ")"
      ],
      "execution_count": 14,
      "outputs": [
        {
          "output_type": "stream",
          "text": [
            "Epoch 1/20\n",
            "16/16 [==============================] - 0s 24ms/step - loss: 2.6086 - accuracy: 0.5197 - val_loss: 1.7080 - val_accuracy: 0.6450\n",
            "Epoch 2/20\n",
            "16/16 [==============================] - 0s 14ms/step - loss: 1.4213 - accuracy: 0.7027 - val_loss: 1.3280 - val_accuracy: 0.7100\n",
            "Epoch 3/20\n",
            "16/16 [==============================] - 0s 14ms/step - loss: 1.0737 - accuracy: 0.7691 - val_loss: 1.1495 - val_accuracy: 0.7560\n",
            "Epoch 4/20\n",
            "16/16 [==============================] - 0s 14ms/step - loss: 0.8438 - accuracy: 0.8188 - val_loss: 1.0627 - val_accuracy: 0.7670\n",
            "Epoch 5/20\n",
            "16/16 [==============================] - 0s 14ms/step - loss: 0.6763 - accuracy: 0.8539 - val_loss: 0.9852 - val_accuracy: 0.7860\n",
            "Epoch 6/20\n",
            "16/16 [==============================] - 0s 14ms/step - loss: 0.5397 - accuracy: 0.8870 - val_loss: 0.9477 - val_accuracy: 0.7990\n",
            "Epoch 7/20\n",
            "16/16 [==============================] - 0s 13ms/step - loss: 0.4343 - accuracy: 0.9107 - val_loss: 0.9235 - val_accuracy: 0.8040\n",
            "Epoch 8/20\n",
            "16/16 [==============================] - 0s 13ms/step - loss: 0.3536 - accuracy: 0.9250 - val_loss: 0.9123 - val_accuracy: 0.8070\n",
            "Epoch 9/20\n",
            "16/16 [==============================] - 0s 13ms/step - loss: 0.2922 - accuracy: 0.9371 - val_loss: 0.9242 - val_accuracy: 0.8070\n",
            "Epoch 10/20\n",
            "16/16 [==============================] - 0s 14ms/step - loss: 0.2444 - accuracy: 0.9434 - val_loss: 0.9341 - val_accuracy: 0.8080\n",
            "Epoch 11/20\n",
            "16/16 [==============================] - 0s 13ms/step - loss: 0.2110 - accuracy: 0.9481 - val_loss: 0.9624 - val_accuracy: 0.8200\n",
            "Epoch 12/20\n",
            "16/16 [==============================] - 0s 13ms/step - loss: 0.1876 - accuracy: 0.9508 - val_loss: 0.9480 - val_accuracy: 0.8070\n",
            "Epoch 13/20\n",
            "16/16 [==============================] - 0s 14ms/step - loss: 0.1666 - accuracy: 0.9533 - val_loss: 0.9934 - val_accuracy: 0.8010\n",
            "Epoch 14/20\n",
            "16/16 [==============================] - 0s 14ms/step - loss: 0.1487 - accuracy: 0.9560 - val_loss: 1.0246 - val_accuracy: 0.8060\n",
            "Epoch 15/20\n",
            "16/16 [==============================] - 0s 13ms/step - loss: 0.1411 - accuracy: 0.9568 - val_loss: 1.0112 - val_accuracy: 0.8030\n",
            "Epoch 16/20\n",
            "16/16 [==============================] - 0s 14ms/step - loss: 0.1310 - accuracy: 0.9568 - val_loss: 1.0284 - val_accuracy: 0.8040\n",
            "Epoch 17/20\n",
            "16/16 [==============================] - 0s 14ms/step - loss: 0.1251 - accuracy: 0.9560 - val_loss: 1.0190 - val_accuracy: 0.8090\n",
            "Epoch 18/20\n",
            "16/16 [==============================] - 0s 15ms/step - loss: 0.1175 - accuracy: 0.9572 - val_loss: 1.0651 - val_accuracy: 0.8060\n",
            "Epoch 19/20\n",
            "16/16 [==============================] - 0s 14ms/step - loss: 0.1184 - accuracy: 0.9563 - val_loss: 1.0574 - val_accuracy: 0.8070\n",
            "Epoch 20/20\n",
            "16/16 [==============================] - 0s 14ms/step - loss: 0.1153 - accuracy: 0.9583 - val_loss: 1.1102 - val_accuracy: 0.8100\n"
          ],
          "name": "stdout"
        }
      ]
    },
    {
      "cell_type": "code",
      "metadata": {
        "colab": {
          "base_uri": "https://localhost:8080/",
          "height": 541
        },
        "id": "G8Wi_VtHmXJc",
        "outputId": "acf05dfb-21db-4b96-cfc2-0173bf2f0f12"
      },
      "source": [
        "import matplotlib.pyplot as plt\n",
        "\n",
        "plt.plot(history.history['loss'], label = 'train loss')\n",
        "plt.plot(history.history['val_loss'], label = 'validation loss')\n",
        "plt.legend()\n",
        "plt.xlabel('epochs')\n",
        "plt.ylabel('loss')\n",
        "plt.show()\n",
        "\n",
        "plt.plot(history.history['accuracy'], label = 'training accuracy')\n",
        "plt.plot(history.history['val_accuracy'], label = 'validation accuracy')\n",
        "plt.legend()\n",
        "plt.xlabel('epochs')\n",
        "plt.ylabel(\"accuracy\")\n",
        "plt.show()"
      ],
      "execution_count": 15,
      "outputs": [
        {
          "output_type": "display_data",
          "data": {
            "image/png": "[encoded data removed]",
            "text/plain": [
              "<Figure size 432x288 with 1 Axes>"
            ]
          },
          "metadata": {
            "tags": [],
            "needs_background": "light"
          }
        },
        {
          "output_type": "display_data",
          "data": {
            "image/png": "[encoded data removed]",
            "text/plain": [
              "<Figure size 432x288 with 1 Axes>"
            ]
          },
          "metadata": {
            "tags": [],
            "needs_background": "light"
          }
        }
      ]
    },
    {
      "cell_type": "markdown",
      "metadata": {
        "id": "irh2THmGnlEz"
      },
      "source": [
        "The network begins to overfit after nine epochs. Let’s train a new network from\n",
        "scratch for nine epochs and then evaluate it on the test set."
      ]
    },
    {
      "cell_type": "markdown",
      "metadata": {
        "id": "DrLlH6ofns1S"
      },
      "source": [
        "Retraining a model from scratch"
      ]
    },
    {
      "cell_type": "code",
      "metadata": {
        "colab": {
          "base_uri": "https://localhost:8080/"
        },
        "id": "UqQLbdCpnSL3",
        "outputId": "d637264b-be0c-4d7c-a7fe-5bec3baaaf5d"
      },
      "source": [
        "model = models.Sequential()\n",
        "model.add(layers.Dense(64, activation = 'relu', input_shape = (10000,)))\n",
        "model.add(layers.Dense(64, activation = 'relu'))\n",
        "model.add(layers.Dense(46, activation = 'softmax'))\n",
        "\n",
        "model.compile(\n",
        "    optimizer = 'rmsprop',\n",
        "    loss = 'categorical_crossentropy',\n",
        "    metrics = ['accuracy']\n",
        ")\n",
        "\n",
        "model.fit(\n",
        "    partial_x_train,\n",
        "    partial_y_train,\n",
        "    epochs = 9,\n",
        "    validation_data  = (x_val, y_val)\n",
        ")\n",
        "results = model.evaluate(x_test, one_hot_test_labels)"
      ],
      "execution_count": 16,
      "outputs": [
        {
          "output_type": "stream",
          "text": [
            "Epoch 1/9\n",
            "250/250 [==============================] - 1s 4ms/step - loss: 1.4283 - accuracy: 0.6908 - val_loss: 1.0323 - val_accuracy: 0.7840\n",
            "Epoch 2/9\n",
            "250/250 [==============================] - 1s 3ms/step - loss: 0.7253 - accuracy: 0.8396 - val_loss: 0.9110 - val_accuracy: 0.8140\n",
            "Epoch 3/9\n",
            "250/250 [==============================] - 1s 3ms/step - loss: 0.4570 - accuracy: 0.9014 - val_loss: 0.8864 - val_accuracy: 0.8310\n",
            "Epoch 4/9\n",
            "250/250 [==============================] - 1s 3ms/step - loss: 0.3154 - accuracy: 0.9300 - val_loss: 0.9115 - val_accuracy: 0.8260\n",
            "Epoch 5/9\n",
            "250/250 [==============================] - 1s 3ms/step - loss: 0.2500 - accuracy: 0.9442 - val_loss: 1.0606 - val_accuracy: 0.8140\n",
            "Epoch 6/9\n",
            "250/250 [==============================] - 1s 4ms/step - loss: 0.2147 - accuracy: 0.9494 - val_loss: 1.0530 - val_accuracy: 0.8120\n",
            "Epoch 7/9\n",
            "250/250 [==============================] - 1s 4ms/step - loss: 0.1900 - accuracy: 0.9513 - val_loss: 1.1734 - val_accuracy: 0.8230\n",
            "Epoch 8/9\n",
            "250/250 [==============================] - 1s 4ms/step - loss: 0.1743 - accuracy: 0.9563 - val_loss: 1.3429 - val_accuracy: 0.8120\n",
            "Epoch 9/9\n",
            "250/250 [==============================] - 1s 4ms/step - loss: 0.1601 - accuracy: 0.9553 - val_loss: 1.3168 - val_accuracy: 0.8150\n",
            "71/71 [==============================] - 0s 3ms/step - loss: 1.5376 - accuracy: 0.7850\n"
          ],
          "name": "stdout"
        }
      ]
    },
    {
      "cell_type": "code",
      "metadata": {
        "colab": {
          "base_uri": "https://localhost:8080/"
        },
        "id": "DuGksLvtooxf",
        "outputId": "4a6efbc1-17ef-4cb7-f662-1c03c1184f4a"
      },
      "source": [
        "results"
      ],
      "execution_count": 17,
      "outputs": [
        {
          "output_type": "execute_result",
          "data": {
            "text/plain": [
              "[1.5376198291778564, 0.7849510312080383]"
            ]
          },
          "metadata": {
            "tags": []
          },
          "execution_count": 17
        }
      ]
    },
    {
      "cell_type": "code",
      "metadata": {
        "id": "OlsAu0JCo6Ll"
      },
      "source": [
        "predictions = model.predict(x_test)"
      ],
      "execution_count": 18,
      "outputs": []
    },
    {
      "cell_type": "code",
      "metadata": {
        "colab": {
          "base_uri": "https://localhost:8080/"
        },
        "id": "dxSwtg0HpIoM",
        "outputId": "4eee90c7-485e-4c08-bd7d-1df69df2feee"
      },
      "source": [
        "predictions"
      ],
      "execution_count": 19,
      "outputs": [
        {
          "output_type": "execute_result",
          "data": {
            "text/plain": [
              "array([[3.40358639e-08, 1.10241299e-05, 1.84715195e-11, ...,\n",
              "        2.34042191e-12, 9.62901337e-16, 1.15991071e-12],\n",
              "       [6.32533784e-07, 2.07219443e-07, 8.59786417e-13, ...,\n",
              "        1.54665094e-21, 1.06847786e-19, 2.72292551e-13],\n",
              "       [3.74044866e-05, 8.38795900e-01, 3.07666232e-05, ...,\n",
              "        7.26271321e-10, 5.47057111e-09, 2.10647749e-11],\n",
              "       ...,\n",
              "       [7.79401660e-07, 4.15625778e-04, 1.96338288e-08, ...,\n",
              "        1.65275480e-07, 3.62664239e-11, 6.75514356e-09],\n",
              "       [1.71771564e-04, 4.14179526e-02, 8.57059378e-03, ...,\n",
              "        3.87763212e-05, 9.51151776e-07, 3.06470213e-07],\n",
              "       [3.98740774e-08, 9.52607453e-01, 2.81386165e-05, ...,\n",
              "        2.68267436e-10, 6.32136487e-13, 2.46767430e-14]], dtype=float32)"
            ]
          },
          "metadata": {
            "tags": []
          },
          "execution_count": 19
        }
      ]
    },
    {
      "cell_type": "code",
      "metadata": {
        "colab": {
          "base_uri": "https://localhost:8080/"
        },
        "id": "nGx5Fd7jpJlk",
        "outputId": "fe1fe750-aad6-42f3-d903-75780574c1fc"
      },
      "source": [
        "print(np.argmax(predictions[0]))"
      ],
      "execution_count": 20,
      "outputs": [
        {
          "output_type": "stream",
          "text": [
            "3\n"
          ],
          "name": "stdout"
        }
      ]
    },
    {
      "cell_type": "markdown",
      "metadata": {
        "id": "TZ1B4diBphAv"
      },
      "source": [
        "#Another way to handel labels\n",
        "first we use one-hot method to handel labels  \n",
        "now we use np.array to cast them as tensor"
      ]
    },
    {
      "cell_type": "code",
      "metadata": {
        "id": "F3uEjD2upVeN"
      },
      "source": [
        "y_train = np.array(train_labels)\n",
        "y_test = np.array(test_labels)"
      ],
      "execution_count": 21,
      "outputs": []
    },
    {
      "cell_type": "markdown",
      "metadata": {
        "id": "i_4M7vIbp-4Y"
      },
      "source": [
        "This time we will use sparse categorical entropy"
      ]
    },
    {
      "cell_type": "code",
      "metadata": {
        "id": "ZLUWaTaGp-AO"
      },
      "source": [
        "model.compile(\n",
        "    optimizer = 'rmsprop',\n",
        "    loss = 'sparse_categorical_entropy',\n",
        "    metrics =  ['acc']\n",
        ")"
      ],
      "execution_count": 22,
      "outputs": []
    },
    {
      "cell_type": "markdown",
      "metadata": {
        "id": "FGTOpxlJqO-7"
      },
      "source": [
        "**This new loss function is still mathematically the same as categorical_crossentropy;it just has a different interface.**"
      ]
    },
    {
      "cell_type": "markdown",
      "metadata": {
        "id": "Quq51uHkqb-0"
      },
      "source": [
        "The importance of having sufficiently large intermediate layers\n",
        "We mentioned earlier that because the final outputs are 46-dimensional, you should\n",
        "avoid intermediate layers with many fewer than 46 hidden units. Now let’s see what\n",
        "happens when you introduce an information bottleneck by having intermediate layers\n",
        "that are significantly less than 46-dimensional: for example, 4-dimensional."
      ]
    },
    {
      "cell_type": "markdown",
      "metadata": {
        "id": "5xF9xWZuqO1Q"
      },
      "source": [
        ""
      ]
    },
    {
      "cell_type": "code",
      "metadata": {
        "colab": {
          "base_uri": "https://localhost:8080/"
        },
        "id": "lOOMHItqqMDV",
        "outputId": "6e2e72da-2e98-4302-835a-a22bd831f335"
      },
      "source": [
        "model = models.Sequential()\n",
        "model.add(layers.Dense(64, activation='relu', input_shape=(10000,)))\n",
        "model.add(layers.Dense(4, activation='relu'))\n",
        "model.add(layers.Dense(46, activation='softmax'))\n",
        "\n",
        "model.compile(\n",
        "    optimizer = 'rmsprop',\n",
        "    loss = 'categorical_crossentropy',\n",
        "    metrics = ['accuracy']\n",
        ")\n",
        "\n",
        "r = model.fit(\n",
        "    partial_x_train,\n",
        "    partial_y_train,\n",
        "    epochs = 20,\n",
        "    batch_size = 128,\n",
        "    validation_data = (x_val, y_val)\n",
        ")"
      ],
      "execution_count": 23,
      "outputs": [
        {
          "output_type": "stream",
          "text": [
            "Epoch 1/20\n",
            "63/63 [==============================] - 0s 7ms/step - loss: 3.3366 - accuracy: 0.1206 - val_loss: 2.8700 - val_accuracy: 0.4010\n",
            "Epoch 2/20\n",
            "63/63 [==============================] - 0s 5ms/step - loss: 2.4074 - accuracy: 0.4465 - val_loss: 2.2469 - val_accuracy: 0.4590\n",
            "Epoch 3/20\n",
            "63/63 [==============================] - 0s 5ms/step - loss: 1.9294 - accuracy: 0.4883 - val_loss: 1.9570 - val_accuracy: 0.4750\n",
            "Epoch 4/20\n",
            "63/63 [==============================] - 0s 5ms/step - loss: 1.5543 - accuracy: 0.5781 - val_loss: 1.6001 - val_accuracy: 0.6370\n",
            "Epoch 5/20\n",
            "63/63 [==============================] - 0s 5ms/step - loss: 1.2611 - accuracy: 0.6803 - val_loss: 1.5101 - val_accuracy: 0.6520\n",
            "Epoch 6/20\n",
            "63/63 [==============================] - 0s 5ms/step - loss: 1.1421 - accuracy: 0.6899 - val_loss: 1.4783 - val_accuracy: 0.6590\n",
            "Epoch 7/20\n",
            "63/63 [==============================] - 0s 5ms/step - loss: 1.0651 - accuracy: 0.7053 - val_loss: 1.4658 - val_accuracy: 0.6700\n",
            "Epoch 8/20\n",
            "63/63 [==============================] - 0s 5ms/step - loss: 1.0013 - accuracy: 0.7253 - val_loss: 1.5075 - val_accuracy: 0.6750\n",
            "Epoch 9/20\n",
            "63/63 [==============================] - 0s 5ms/step - loss: 0.9462 - accuracy: 0.7474 - val_loss: 1.5451 - val_accuracy: 0.6740\n",
            "Epoch 10/20\n",
            "63/63 [==============================] - 0s 5ms/step - loss: 0.9005 - accuracy: 0.7538 - val_loss: 1.5539 - val_accuracy: 0.6770\n",
            "Epoch 11/20\n",
            "63/63 [==============================] - 0s 5ms/step - loss: 0.8620 - accuracy: 0.7575 - val_loss: 1.5879 - val_accuracy: 0.6760\n",
            "Epoch 12/20\n",
            "63/63 [==============================] - 0s 5ms/step - loss: 0.8279 - accuracy: 0.7623 - val_loss: 1.6482 - val_accuracy: 0.6800\n",
            "Epoch 13/20\n",
            "63/63 [==============================] - 0s 6ms/step - loss: 0.7990 - accuracy: 0.7672 - val_loss: 1.6944 - val_accuracy: 0.6730\n",
            "Epoch 14/20\n",
            "63/63 [==============================] - 0s 5ms/step - loss: 0.7753 - accuracy: 0.7701 - val_loss: 1.7271 - val_accuracy: 0.6770\n",
            "Epoch 15/20\n",
            "63/63 [==============================] - 0s 5ms/step - loss: 0.7553 - accuracy: 0.7780 - val_loss: 1.8407 - val_accuracy: 0.6750\n",
            "Epoch 16/20\n",
            "63/63 [==============================] - 0s 6ms/step - loss: 0.7335 - accuracy: 0.7823 - val_loss: 1.9044 - val_accuracy: 0.6770\n",
            "Epoch 17/20\n",
            "63/63 [==============================] - 0s 5ms/step - loss: 0.7153 - accuracy: 0.7863 - val_loss: 1.9303 - val_accuracy: 0.6760\n",
            "Epoch 18/20\n",
            "63/63 [==============================] - 0s 5ms/step - loss: 0.7014 - accuracy: 0.7929 - val_loss: 1.9872 - val_accuracy: 0.6810\n",
            "Epoch 19/20\n",
            "63/63 [==============================] - 0s 6ms/step - loss: 0.6818 - accuracy: 0.8016 - val_loss: 2.0999 - val_accuracy: 0.6690\n",
            "Epoch 20/20\n",
            "63/63 [==============================] - 0s 5ms/step - loss: 0.6681 - accuracy: 0.8058 - val_loss: 2.1436 - val_accuracy: 0.6740\n"
          ],
          "name": "stdout"
        }
      ]
    },
    {
      "cell_type": "code",
      "metadata": {
        "colab": {
          "base_uri": "https://localhost:8080/",
          "height": 513
        },
        "id": "3FSBZaJZq5bX",
        "outputId": "dbf54bf4-1d36-4474-fdc4-d8483ad7d015"
      },
      "source": [
        "plt.plot(r.history['loss'], label = 'train loss')\n",
        "plt.plot(r.history['val_loss'], label = 'validation loss')\n",
        "plt.legend()\n",
        "plt.show()\n",
        "\n",
        "plt.plot(r.history['accuracy'], label = 'training accuracy')\n",
        "plt.plot(r.history['val_accuracy'], label = 'validation accuracy')\n",
        "plt.legend()\n",
        "plt.show()"
      ],
      "execution_count": 24,
      "outputs": [
        {
          "output_type": "display_data",
          "data": {
            "image/png": "[encoded data removed]",
            "text/plain": [
              "<Figure size 432x288 with 1 Axes>"
            ]
          },
          "metadata": {
            "tags": [],
            "needs_background": "light"
          }
        },
        {
          "output_type": "display_data",
          "data": {
            "image/png": "[encoded data removed]",
            "text/plain": [
              "<Figure size 432x288 with 1 Axes>"
            ]
          },
          "metadata": {
            "tags": [],
            "needs_background": "light"
          }
        }
      ]
    },
    {
      "cell_type": "code",
      "metadata": {
        "colab": {
          "base_uri": "https://localhost:8080/"
        },
        "id": "8pVpr59drj-3",
        "outputId": "eeb55912-6256-46fa-c609-252a255fd905"
      },
      "source": [
        "model.evaluate(x_test, one_hot_test_labels)"
      ],
      "execution_count": 25,
      "outputs": [
        {
          "output_type": "stream",
          "text": [
            "71/71 [==============================] - 0s 3ms/step - loss: 2.3524 - accuracy: 0.6612\n"
          ],
          "name": "stdout"
        },
        {
          "output_type": "execute_result",
          "data": {
            "text/plain": [
              "[2.352412223815918, 0.6611754298210144]"
            ]
          },
          "metadata": {
            "tags": []
          },
          "execution_count": 25
        }
      ]
    },
    {
      "cell_type": "markdown",
      "metadata": {
        "id": "wyQVfGVUsKJG"
      },
      "source": [
        "The network now peaks at ~69% validation accuracy. This drop\n",
        "is mostly due to the fact that you’re trying to compress a lot of information (enough\n",
        "information to recover the separation hyperplanes of 46 classes) into an intermediate\n",
        "space that is too low-dimensional. The network is able to cram most of the necessary\n",
        "information into these eight-dimensional representations, but not all of it"
      ]
    },
    {
      "cell_type": "markdown",
      "metadata": {
        "id": "--t3SrMPsTVk"
      },
      "source": [
        "**lets try with 128 hidden units**"
      ]
    },
    {
      "cell_type": "code",
      "metadata": {
        "colab": {
          "base_uri": "https://localhost:8080/"
        },
        "id": "qdAwlLqHr0Qd",
        "outputId": "4f6d478c-9b4b-4d21-9524-f8656d28aa43"
      },
      "source": [
        "model = models.Sequential()\n",
        "model.add(layers.Dense(128, activation='relu', input_shape=(10000,)))\n",
        "model.add(layers.Dense(128, activation='relu'))\n",
        "model.add(layers.Dense(46, activation='softmax'))\n",
        "model.compile(optimizer='rmsprop',\n",
        "loss='categorical_crossentropy',\n",
        "metrics=['accuracy'])\n",
        "\n",
        "model.fit(partial_x_train,\n",
        "partial_y_train,\n",
        "epochs=20,\n",
        "batch_size=128,\n",
        "validation_data=(x_val, y_val))"
      ],
      "execution_count": 26,
      "outputs": [
        {
          "output_type": "stream",
          "text": [
            "Epoch 1/20\n",
            "63/63 [==============================] - 1s 8ms/step - loss: 1.5662 - accuracy: 0.6706 - val_loss: 1.1155 - val_accuracy: 0.7500\n",
            "Epoch 2/20\n",
            "63/63 [==============================] - 0s 6ms/step - loss: 0.7605 - accuracy: 0.8373 - val_loss: 0.9495 - val_accuracy: 0.7970\n",
            "Epoch 3/20\n",
            "63/63 [==============================] - 0s 6ms/step - loss: 0.4602 - accuracy: 0.9048 - val_loss: 0.8941 - val_accuracy: 0.8110\n",
            "Epoch 4/20\n",
            "63/63 [==============================] - 0s 6ms/step - loss: 0.3051 - accuracy: 0.9320 - val_loss: 0.9256 - val_accuracy: 0.8060\n",
            "Epoch 5/20\n",
            "63/63 [==============================] - 0s 6ms/step - loss: 0.2363 - accuracy: 0.9446 - val_loss: 0.9528 - val_accuracy: 0.8060\n",
            "Epoch 6/20\n",
            "63/63 [==============================] - 0s 6ms/step - loss: 0.1930 - accuracy: 0.9496 - val_loss: 0.9369 - val_accuracy: 0.8170\n",
            "Epoch 7/20\n",
            "63/63 [==============================] - 0s 6ms/step - loss: 0.1678 - accuracy: 0.9534 - val_loss: 0.9120 - val_accuracy: 0.8240\n",
            "Epoch 8/20\n",
            "63/63 [==============================] - 0s 6ms/step - loss: 0.1515 - accuracy: 0.9555 - val_loss: 0.9740 - val_accuracy: 0.8150\n",
            "Epoch 9/20\n",
            "63/63 [==============================] - 0s 6ms/step - loss: 0.1380 - accuracy: 0.9567 - val_loss: 1.0701 - val_accuracy: 0.7920\n",
            "Epoch 10/20\n",
            "63/63 [==============================] - 0s 6ms/step - loss: 0.1318 - accuracy: 0.9550 - val_loss: 1.0700 - val_accuracy: 0.8050\n",
            "Epoch 11/20\n",
            "63/63 [==============================] - 0s 6ms/step - loss: 0.1254 - accuracy: 0.9568 - val_loss: 1.0213 - val_accuracy: 0.8110\n",
            "Epoch 12/20\n",
            "63/63 [==============================] - 0s 6ms/step - loss: 0.1180 - accuracy: 0.9567 - val_loss: 1.1434 - val_accuracy: 0.7980\n",
            "Epoch 13/20\n",
            "63/63 [==============================] - 0s 6ms/step - loss: 0.1144 - accuracy: 0.9568 - val_loss: 1.1307 - val_accuracy: 0.7970\n",
            "Epoch 14/20\n",
            "63/63 [==============================] - 0s 6ms/step - loss: 0.1051 - accuracy: 0.9560 - val_loss: 1.3181 - val_accuracy: 0.7950\n",
            "Epoch 15/20\n",
            "63/63 [==============================] - 0s 6ms/step - loss: 0.1038 - accuracy: 0.9549 - val_loss: 1.2894 - val_accuracy: 0.7860\n",
            "Epoch 16/20\n",
            "63/63 [==============================] - 0s 6ms/step - loss: 0.0959 - accuracy: 0.9568 - val_loss: 1.2353 - val_accuracy: 0.8030\n",
            "Epoch 17/20\n",
            "63/63 [==============================] - 0s 6ms/step - loss: 0.0918 - accuracy: 0.9573 - val_loss: 1.4148 - val_accuracy: 0.7900\n",
            "Epoch 18/20\n",
            "63/63 [==============================] - 0s 6ms/step - loss: 0.0905 - accuracy: 0.9570 - val_loss: 1.4622 - val_accuracy: 0.7940\n",
            "Epoch 19/20\n",
            "63/63 [==============================] - 0s 6ms/step - loss: 0.0870 - accuracy: 0.9579 - val_loss: 1.4658 - val_accuracy: 0.7870\n",
            "Epoch 20/20\n",
            "63/63 [==============================] - 0s 6ms/step - loss: 0.0855 - accuracy: 0.9574 - val_loss: 1.5521 - val_accuracy: 0.7930\n"
          ],
          "name": "stdout"
        },
        {
          "output_type": "execute_result",
          "data": {
            "text/plain": [
              "<tensorflow.python.keras.callbacks.History at 0x7f7b8f827710>"
            ]
          },
          "metadata": {
            "tags": []
          },
          "execution_count": 26
        }
      ]
    },
    {
      "cell_type": "code",
      "metadata": {
        "colab": {
          "base_uri": "https://localhost:8080/"
        },
        "id": "xJwNXqFmsjwg",
        "outputId": "a7a369c2-2982-4ecc-e989-afbacb9ec90b"
      },
      "source": [
        "model.evaluate(x_test, one_hot_test_labels)"
      ],
      "execution_count": 27,
      "outputs": [
        {
          "output_type": "stream",
          "text": [
            "71/71 [==============================] - 0s 3ms/step - loss: 1.9259 - accuracy: 0.7769\n"
          ],
          "name": "stdout"
        },
        {
          "output_type": "execute_result",
          "data": {
            "text/plain": [
              "[1.925877571105957, 0.7769367694854736]"
            ]
          },
          "metadata": {
            "tags": []
          },
          "execution_count": 27
        }
      ]
    },
    {
      "cell_type": "markdown",
      "metadata": {
        "id": "w9o7a_6jtKLr"
      },
      "source": [
        "accuracy is 78%"
      ]
    },
    {
      "cell_type": "markdown",
      "metadata": {
        "id": "RHNHMlTbtQ1j"
      },
      "source": [
        "Let's have try with 64, 128, 46"
      ]
    },
    {
      "cell_type": "code",
      "metadata": {
        "id": "AdEqxKaNtJFn",
        "outputId": "d10510f5-995f-45c3-c15e-4bc8733cabed",
        "colab": {
          "base_uri": "https://localhost:8080/"
        }
      },
      "source": [
        "model = models.Sequential()\n",
        "model.add(layers.Dense(64, activation='relu', input_shape=(10000,)))\n",
        "model.add(layers.Dense(128, activation='relu'))\n",
        "model.add(layers.Dense(46, activation='softmax'))\n",
        "\n",
        "model.compile(\n",
        "    optimizer = 'rmsprop',\n",
        "    loss = 'categorical_crossentropy',\n",
        "    metrics = ['accuracy']\n",
        ")\n",
        "\n",
        "model.fit(\n",
        "    partial_x_train,\n",
        "    partial_y_train,\n",
        "    epochs = 20,\n",
        "    batch_size = 128,\n",
        "    validation_data = (x_val, y_val)\n",
        ")"
      ],
      "execution_count": 28,
      "outputs": [
        {
          "output_type": "stream",
          "text": [
            "Epoch 1/20\n",
            "63/63 [==============================] - 0s 7ms/step - loss: 1.7253 - accuracy: 0.6245 - val_loss: 1.2329 - val_accuracy: 0.7260\n",
            "Epoch 2/20\n",
            "63/63 [==============================] - 0s 6ms/step - loss: 0.9332 - accuracy: 0.7942 - val_loss: 0.9944 - val_accuracy: 0.7900\n",
            "Epoch 3/20\n",
            "63/63 [==============================] - 0s 5ms/step - loss: 0.6122 - accuracy: 0.8676 - val_loss: 0.9146 - val_accuracy: 0.8070\n",
            "Epoch 4/20\n",
            "63/63 [==============================] - 0s 5ms/step - loss: 0.4098 - accuracy: 0.9117 - val_loss: 0.8808 - val_accuracy: 0.8220\n",
            "Epoch 5/20\n",
            "63/63 [==============================] - 0s 6ms/step - loss: 0.2927 - accuracy: 0.9334 - val_loss: 0.9395 - val_accuracy: 0.8190\n",
            "Epoch 6/20\n",
            "63/63 [==============================] - 0s 6ms/step - loss: 0.2328 - accuracy: 0.9448 - val_loss: 0.9633 - val_accuracy: 0.8260\n",
            "Epoch 7/20\n",
            "63/63 [==============================] - 0s 6ms/step - loss: 0.1937 - accuracy: 0.9501 - val_loss: 1.0383 - val_accuracy: 0.7860\n",
            "Epoch 8/20\n",
            "63/63 [==============================] - 0s 5ms/step - loss: 0.1724 - accuracy: 0.9520 - val_loss: 1.0036 - val_accuracy: 0.8180\n",
            "Epoch 9/20\n",
            "63/63 [==============================] - 0s 5ms/step - loss: 0.1527 - accuracy: 0.9539 - val_loss: 1.0530 - val_accuracy: 0.8150\n",
            "Epoch 10/20\n",
            "63/63 [==============================] - 0s 5ms/step - loss: 0.1457 - accuracy: 0.9554 - val_loss: 1.1497 - val_accuracy: 0.8030\n",
            "Epoch 11/20\n",
            "63/63 [==============================] - 0s 5ms/step - loss: 0.1376 - accuracy: 0.9544 - val_loss: 1.0590 - val_accuracy: 0.8060\n",
            "Epoch 12/20\n",
            "63/63 [==============================] - 0s 5ms/step - loss: 0.1287 - accuracy: 0.9550 - val_loss: 1.0623 - val_accuracy: 0.8180\n",
            "Epoch 13/20\n",
            "63/63 [==============================] - 0s 6ms/step - loss: 0.1247 - accuracy: 0.9555 - val_loss: 1.0756 - val_accuracy: 0.8130\n",
            "Epoch 14/20\n",
            "63/63 [==============================] - 0s 5ms/step - loss: 0.1164 - accuracy: 0.9580 - val_loss: 1.1896 - val_accuracy: 0.8050\n",
            "Epoch 15/20\n",
            "63/63 [==============================] - 0s 5ms/step - loss: 0.1153 - accuracy: 0.9562 - val_loss: 1.1840 - val_accuracy: 0.8070\n",
            "Epoch 16/20\n",
            "63/63 [==============================] - 0s 6ms/step - loss: 0.1095 - accuracy: 0.9570 - val_loss: 1.2767 - val_accuracy: 0.7980\n",
            "Epoch 17/20\n",
            "63/63 [==============================] - 0s 5ms/step - loss: 0.1061 - accuracy: 0.9558 - val_loss: 1.2028 - val_accuracy: 0.8040\n",
            "Epoch 18/20\n",
            "63/63 [==============================] - 0s 6ms/step - loss: 0.1016 - accuracy: 0.9574 - val_loss: 1.2793 - val_accuracy: 0.8010\n",
            "Epoch 19/20\n",
            "63/63 [==============================] - 0s 6ms/step - loss: 0.1011 - accuracy: 0.9575 - val_loss: 1.2954 - val_accuracy: 0.8000\n",
            "Epoch 20/20\n",
            "63/63 [==============================] - 0s 5ms/step - loss: 0.0958 - accuracy: 0.9588 - val_loss: 1.3953 - val_accuracy: 0.8000\n"
          ],
          "name": "stdout"
        },
        {
          "output_type": "execute_result",
          "data": {
            "text/plain": [
              "<tensorflow.python.keras.callbacks.History at 0x7f7b8f338cf8>"
            ]
          },
          "metadata": {
            "tags": []
          },
          "execution_count": 28
        }
      ]
    },
    {
      "cell_type": "code",
      "metadata": {
        "id": "gJawla1otcNc",
        "outputId": "e4adfb70-e28f-4b9e-86d2-3aed6b87a030",
        "colab": {
          "base_uri": "https://localhost:8080/"
        }
      },
      "source": [
        "model.evaluate(x_test, one_hot_test_labels)"
      ],
      "execution_count": 29,
      "outputs": [
        {
          "output_type": "stream",
          "text": [
            "71/71 [==============================] - 0s 3ms/step - loss: 1.7017 - accuracy: 0.7685\n"
          ],
          "name": "stdout"
        },
        {
          "output_type": "execute_result",
          "data": {
            "text/plain": [
              "[1.7017035484313965, 0.7684773206710815]"
            ]
          },
          "metadata": {
            "tags": []
          },
          "execution_count": 29
        }
      ]
    },
    {
      "cell_type": "markdown",
      "metadata": {
        "id": "OWUkEF3EtkAh"
      },
      "source": [
        "increase a little bit"
      ]
    },
    {
      "cell_type": "code",
      "metadata": {
        "id": "chb-OmlatfH0",
        "outputId": "5d03a23d-79f3-42db-bd75-002bc8cff2aa",
        "colab": {
          "base_uri": "https://localhost:8080/"
        }
      },
      "source": [
        "model = models.Sequential()\n",
        "model.add(layers.Dense(64, activation='relu', input_shape=(10000,)))\n",
        "model.add(layers.Dense(128, activation='relu'))\n",
        "model.add(layers.Dense(128, activation='relu'))\n",
        "model.add(layers.Dense(46, activation='softmax'))\n",
        "\n",
        "model.compile(\n",
        "    optimizer = 'rmsprop',\n",
        "    loss = 'categorical_crossentropy',\n",
        "    metrics = ['accuracy']\n",
        ")\n",
        "\n",
        "model.fit(\n",
        "    partial_x_train,\n",
        "    partial_y_train,\n",
        "    epochs = 20,\n",
        "    batch_size = 128,\n",
        "    validation_data = (x_val, y_val)\n",
        ")"
      ],
      "execution_count": 30,
      "outputs": [
        {
          "output_type": "stream",
          "text": [
            "Epoch 1/20\n",
            "63/63 [==============================] - 0s 8ms/step - loss: 1.7687 - accuracy: 0.6027 - val_loss: 1.2648 - val_accuracy: 0.7100\n",
            "Epoch 2/20\n",
            "63/63 [==============================] - 0s 6ms/step - loss: 0.9668 - accuracy: 0.7849 - val_loss: 1.0409 - val_accuracy: 0.7670\n",
            "Epoch 3/20\n",
            "63/63 [==============================] - 0s 6ms/step - loss: 0.6258 - accuracy: 0.8584 - val_loss: 0.9596 - val_accuracy: 0.7910\n",
            "Epoch 4/20\n",
            "63/63 [==============================] - 0s 6ms/step - loss: 0.4159 - accuracy: 0.9072 - val_loss: 1.0030 - val_accuracy: 0.7810\n",
            "Epoch 5/20\n",
            "63/63 [==============================] - 0s 6ms/step - loss: 0.2973 - accuracy: 0.9335 - val_loss: 1.0117 - val_accuracy: 0.8100\n",
            "Epoch 6/20\n",
            "63/63 [==============================] - 0s 5ms/step - loss: 0.2329 - accuracy: 0.9440 - val_loss: 1.0161 - val_accuracy: 0.8020\n",
            "Epoch 7/20\n",
            "63/63 [==============================] - 0s 6ms/step - loss: 0.1912 - accuracy: 0.9516 - val_loss: 1.3169 - val_accuracy: 0.7650\n",
            "Epoch 8/20\n",
            "63/63 [==============================] - 0s 5ms/step - loss: 0.1727 - accuracy: 0.9541 - val_loss: 1.1145 - val_accuracy: 0.7910\n",
            "Epoch 9/20\n",
            "63/63 [==============================] - 0s 5ms/step - loss: 0.1547 - accuracy: 0.9538 - val_loss: 1.1333 - val_accuracy: 0.7910\n",
            "Epoch 10/20\n",
            "63/63 [==============================] - 0s 6ms/step - loss: 0.1419 - accuracy: 0.9548 - val_loss: 1.2171 - val_accuracy: 0.7980\n",
            "Epoch 11/20\n",
            "63/63 [==============================] - 0s 5ms/step - loss: 0.1304 - accuracy: 0.9569 - val_loss: 1.2069 - val_accuracy: 0.8000\n",
            "Epoch 12/20\n",
            "63/63 [==============================] - 0s 6ms/step - loss: 0.1238 - accuracy: 0.9558 - val_loss: 1.1926 - val_accuracy: 0.7920\n",
            "Epoch 13/20\n",
            "63/63 [==============================] - 0s 6ms/step - loss: 0.1185 - accuracy: 0.9567 - val_loss: 1.3634 - val_accuracy: 0.7860\n",
            "Epoch 14/20\n",
            "63/63 [==============================] - 0s 5ms/step - loss: 0.1143 - accuracy: 0.9567 - val_loss: 1.4174 - val_accuracy: 0.7860\n",
            "Epoch 15/20\n",
            "63/63 [==============================] - 0s 6ms/step - loss: 0.1067 - accuracy: 0.9560 - val_loss: 1.5359 - val_accuracy: 0.7910\n",
            "Epoch 16/20\n",
            "63/63 [==============================] - 0s 6ms/step - loss: 0.1039 - accuracy: 0.9583 - val_loss: 1.4448 - val_accuracy: 0.7940\n",
            "Epoch 17/20\n",
            "63/63 [==============================] - 0s 5ms/step - loss: 0.0981 - accuracy: 0.9574 - val_loss: 1.4439 - val_accuracy: 0.7790\n",
            "Epoch 18/20\n",
            "63/63 [==============================] - 0s 6ms/step - loss: 0.0965 - accuracy: 0.9564 - val_loss: 1.6229 - val_accuracy: 0.7960\n",
            "Epoch 19/20\n",
            "63/63 [==============================] - 0s 5ms/step - loss: 0.0929 - accuracy: 0.9589 - val_loss: 1.6194 - val_accuracy: 0.7840\n",
            "Epoch 20/20\n",
            "63/63 [==============================] - 0s 6ms/step - loss: 0.0900 - accuracy: 0.9579 - val_loss: 1.6655 - val_accuracy: 0.7850\n"
          ],
          "name": "stdout"
        },
        {
          "output_type": "execute_result",
          "data": {
            "text/plain": [
              "<tensorflow.python.keras.callbacks.History at 0x7f7b8f44d6a0>"
            ]
          },
          "metadata": {
            "tags": []
          },
          "execution_count": 30
        }
      ]
    },
    {
      "cell_type": "code",
      "metadata": {
        "id": "xHmTrhsStp9N",
        "outputId": "81763a00-9701-4fdd-8345-b8f835f9fad3",
        "colab": {
          "base_uri": "https://localhost:8080/"
        }
      },
      "source": [
        "model.evaluate(x_test, one_hot_test_labels)"
      ],
      "execution_count": 31,
      "outputs": [
        {
          "output_type": "stream",
          "text": [
            "71/71 [==============================] - 0s 3ms/step - loss: 2.0299 - accuracy: 0.7707\n"
          ],
          "name": "stdout"
        },
        {
          "output_type": "execute_result",
          "data": {
            "text/plain": [
              "[2.0298850536346436, 0.7707034945487976]"
            ]
          },
          "metadata": {
            "tags": []
          },
          "execution_count": 31
        }
      ]
    },
    {
      "cell_type": "code",
      "metadata": {
        "id": "9GRTwSmwt9j2"
      },
      "source": [
        ""
      ],
      "execution_count": 31,
      "outputs": []
    }
  ]
}